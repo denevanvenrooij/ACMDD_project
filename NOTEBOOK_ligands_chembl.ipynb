{
 "cells": [
  {
   "cell_type": "code",
   "execution_count": 11,
   "id": "a482f989",
   "metadata": {},
   "outputs": [
    {
     "name": "stdout",
     "output_type": "stream",
     "text": [
      "Requirement already satisfied: rich-msa in /opt/conda/lib/python3.9/site-packages (0.1.0)\n",
      "Requirement already satisfied: rich in /opt/conda/lib/python3.9/site-packages (from rich-msa) (13.4.2)\n",
      "Requirement already satisfied: markdown-it-py>=2.2.0 in /opt/conda/lib/python3.9/site-packages (from rich->rich-msa) (3.0.0)\n",
      "Requirement already satisfied: pygments<3.0.0,>=2.13.0 in /opt/conda/lib/python3.9/site-packages (from rich->rich-msa) (2.13.0)\n",
      "Requirement already satisfied: mdurl~=0.1 in /opt/conda/lib/python3.9/site-packages (from markdown-it-py>=2.2.0->rich->rich-msa) (0.1.2)\n",
      "Requirement already satisfied: xmltramp2 in /opt/conda/lib/python3.9/site-packages (3.1.1)\n",
      "Requirement already satisfied: six in /opt/conda/lib/python3.9/site-packages (from xmltramp2) (1.16.0)\n"
     ]
    }
   ],
   "source": [
    "!pip install rich-msa\n",
    "!pip install xmltramp2\n",
    "\n",
    "# some extra packages that I needed to install"
   ]
  },
  {
   "cell_type": "code",
   "execution_count": 27,
   "id": "d706ed27",
   "metadata": {},
   "outputs": [],
   "source": [
    "import os.path\n",
    "from pathlib import Path\n",
    "import numpy as np\n",
    "import pandas as pd\n",
    "import re\n",
    "import json\n",
    "\n",
    "from papyrus_scripts.download import download_papyrus\n",
    "from papyrus_scripts.reader import read_papyrus, read_protein_set\n",
    "from papyrus_scripts.preprocess import *\n",
    "from papyrus_scripts.utils.IO import get_num_rows_in_file\n",
    "\n",
    "from Bio.Seq import Seq\n",
    "from Bio.SeqIO import SeqRecord, write as SeqIO_write, parse as SeqIO_parse\n",
    "from Bio.Align.Applications import ClustalOmegaCommandline\n",
    "import Bio.AlignIO\n",
    "import rich\n",
    "from rich_msa import RichAlignment\n",
    "\n",
    "from prodec import ProteinDescriptors\n",
    "from rdkit import Chem\n",
    "from mordred import Calculator, descriptors\n",
    "\n",
    "from sklearn.preprocessing import RobustScaler\n",
    "from sklearn.model_selection import train_test_split\n",
    "from sklearn.ensemble import RandomForestRegressor\n",
    "from sklearn.metrics import r2_score,mean_absolute_error\n",
    "from scipy.stats import pearsonr\n",
    "\n",
    "import seaborn as sns\n",
    "import matplotlib.pyplot as plt"
   ]
  },
  {
   "cell_type": "code",
   "execution_count": 28,
   "id": "d00e2ee5",
   "metadata": {},
   "outputs": [],
   "source": [
    "HERE = Path(_dh[-1])\n",
    "DATA = HERE / \"data\""
   ]
  },
  {
   "cell_type": "code",
   "execution_count": 29,
   "id": "d2a0fbe3",
   "metadata": {},
   "outputs": [],
   "source": [
    "PAPYRUS_VERSION = '05.6' # the version of papyrus we used"
   ]
  },
  {
   "cell_type": "code",
   "execution_count": 30,
   "id": "81887aa2",
   "metadata": {},
   "outputs": [
    {
     "name": "stdout",
     "output_type": "stream",
     "text": [
      "########## DISCLAIMER ##########\n",
      "You are downloading the high-quality Papyrus++ dataset.\n",
      "Should you want to access the entire, though of lower quality, Papyrus dataset,\n",
      "look into additional switches of this command.\n",
      "################################\n",
      "Number of files to be downloaded: 3\n",
      "Total size: 33.0MB\n"
     ]
    },
    {
     "data": {
      "application/vnd.jupyter.widget-view+json": {
       "model_id": "14a5e45df2cd4e10813111cf02735623",
       "version_major": 2,
       "version_minor": 0
      },
      "text/plain": [
       "Downloading version 05.6:   0%|          | 0.00/33.0M [00:00<?, ?B/s]"
      ]
     },
     "metadata": {},
     "output_type": "display_data"
    }
   ],
   "source": [
    "download_papyrus(outdir=DATA, version=PAPYRUS_VERSION, nostereo=True, stereo=False, descriptors=None) # downloads papyrus"
   ]
  },
  {
   "cell_type": "code",
   "execution_count": 31,
   "id": "97d78687",
   "metadata": {},
   "outputs": [],
   "source": [
    "def filter_explore_activity_data(papyrus_version, targets): # this function will be used to fetch data from papyrus\n",
    "\n",
    "    # Read downloaded Papyrus dataset in chunks, as it does not fit in memory\n",
    "    CHUNKSIZE = 100000\n",
    "    data = read_papyrus(version=papyrus_version, chunksize=CHUNKSIZE, source_path=DATA)\n",
    "\n",
    "    # Create filter for targets of interest\n",
    "    target_accession_list = targets.values()\n",
    "    filter = keep_accession(data, target_accession_list)\n",
    "\n",
    "    # Iterate through chunks and apply the filter defined\n",
    "    filtered_data = consume_chunks(filter, total=-(-get_num_rows_in_file('bioactivities', False) // CHUNKSIZE))\n",
    "    # Add column named 'Target' for easier data visualization\n",
    "    filtered_data['Target'] = filtered_data['accession'].apply(lambda x: [i for i in targets.keys() if targets[i]==x][0])\n",
    "\n",
    "    # Print number of bioactivity datapoints per target\n",
    "    for target,accession in zip(targets.keys(), targets.values()):\n",
    "        print('Number of bioactivity datapoints')\n",
    "        print(f'{target} ({accession}) : {filtered_data[filtered_data[\"accession\"]==accession].shape[0]}')\n",
    "\n",
    "    # Plot distribution of activity values (pchembl_value_Mean) per target\n",
    "    g = sns.displot(filtered_data, x='pchembl_value_Mean', hue='Target', element='step', hue_order=targets.keys())\n",
    "\n",
    "    return filtered_data"
   ]
  },
  {
   "cell_type": "code",
   "execution_count": 32,
   "id": "806e3d4a",
   "metadata": {},
   "outputs": [
    {
     "data": {
      "application/vnd.jupyter.widget-view+json": {
       "model_id": "46cb665313f847d889e75702cc3c437f",
       "version_major": 2,
       "version_minor": 0
      },
      "text/plain": [
       "  0%|          | 0/13 [00:00<?, ?it/s]"
      ]
     },
     "metadata": {},
     "output_type": "display_data"
    },
    {
     "name": "stdout",
     "output_type": "stream",
     "text": [
      "Number of bioactivity datapoints\n",
      "A3 (P0DMS8) : 3244\n"
     ]
    },
    {
     "name": "stderr",
     "output_type": "stream",
     "text": [
      "/opt/conda/lib/python3.9/site-packages/seaborn/axisgrid.py:118: UserWarning: The figure layout has changed to tight\n",
      "  self._figure.tight_layout(*args, **kwargs)\n"
     ]
    },
    {
     "data": {
      "image/png": "[encoded data removed]",
      "text/plain": [
       "<Figure size 568.375x500 with 1 Axes>"
      ]
     },
     "metadata": {},
     "output_type": "display_data"
    }
   ],
   "source": [
    "adenosine_receptors = {'A3': 'P0DMS8'} # for our project we just want the list of ligands of A3\n",
    "\n",
    "\n",
    "#adenosine_receptors = {'A1': 'P30542',\n",
    "#                      'A2A': 'P29274',\n",
    "#                      'A2B': 'P29275',\n",
    "#                      'A3': 'P0DMS8'} # these were the receptors with selected as standards for this tutorial, we only need A3\n",
    "\n",
    "# this filters the bioactivity dataset and plots the pChEMBL values for selected targets (A3)\n",
    "ar_data = filter_explore_activity_data(PAPYRUS_VERSION, adenosine_receptors) # it kept getting stuck on 5/13, so that is what we decided to use"
   ]
  },
  {
   "cell_type": "code",
   "execution_count": 33,
   "id": "25a1a699",
   "metadata": {},
   "outputs": [
    {
     "data": {
      "text/html": [
       "<div>\n",
       "<style scoped>\n",
       "    .dataframe tbody tr th:only-of-type {\n",
       "        vertical-align: middle;\n",
       "    }\n",
       "\n",
       "    .dataframe tbody tr th {\n",
       "        vertical-align: top;\n",
       "    }\n",
       "\n",
       "    .dataframe thead th {\n",
       "        text-align: right;\n",
       "    }\n",
       "</style>\n",
       "<table border=\"1\" class=\"dataframe\">\n",
       "  <thead>\n",
       "    <tr style=\"text-align: right;\">\n",
       "      <th></th>\n",
       "      <th>smiles</th>\n",
       "      <th>pchembl</th>\n",
       "    </tr>\n",
       "  </thead>\n",
       "  <tbody>\n",
       "    <tr>\n",
       "      <th>0</th>\n",
       "      <td>O=C(Nc1nc2ncccc2n2c(=O)n(-c3ccccc3)nc12)c1ccccc1</td>\n",
       "      <td>7.150000</td>\n",
       "    </tr>\n",
       "    <tr>\n",
       "      <th>1</th>\n",
       "      <td>CCNC(=O)C1OC(n2cnc3c2ncnc3Nc2ccc(OCC(=O)Nc3ccc...</td>\n",
       "      <td>7.470000</td>\n",
       "    </tr>\n",
       "    <tr>\n",
       "      <th>2</th>\n",
       "      <td>C#CCn1c(=O)c2c(nc3cc(OC)ccn32)n(Cc2ccccc2)c1=O</td>\n",
       "      <td>8.385000</td>\n",
       "    </tr>\n",
       "    <tr>\n",
       "      <th>3</th>\n",
       "      <td>CNC(=O)C12CC1C(n1cnc3c1nc(C#CCCCCC(=O)OC)nc3NC...</td>\n",
       "      <td>7.960000</td>\n",
       "    </tr>\n",
       "    <tr>\n",
       "      <th>4</th>\n",
       "      <td>CCCn1c(=O)c2c(nc3cc(OC)ccn32)n(CCCNC(=O)c2ccc(...</td>\n",
       "      <td>6.163333</td>\n",
       "    </tr>\n",
       "    <tr>\n",
       "      <th>...</th>\n",
       "      <td>...</td>\n",
       "      <td>...</td>\n",
       "    </tr>\n",
       "    <tr>\n",
       "      <th>3239</th>\n",
       "      <td>CCCn1cc2c(n1)nc(NC(=O)Nc1ccccc1OC)n1nc(-c3ccco...</td>\n",
       "      <td>8.470000</td>\n",
       "    </tr>\n",
       "    <tr>\n",
       "      <th>3240</th>\n",
       "      <td>COc1ccc(-n2c(C(=O)c3c(C)nc(Nc4ccc(Cl)cc4)s3)cn...</td>\n",
       "      <td>5.800000</td>\n",
       "    </tr>\n",
       "    <tr>\n",
       "      <th>3241</th>\n",
       "      <td>CNc1ncc(C(=O)NCc2ccc(OC)cc2)c2nc(-c3ccco3)nn12</td>\n",
       "      <td>7.900000</td>\n",
       "    </tr>\n",
       "    <tr>\n",
       "      <th>3242</th>\n",
       "      <td>CNC(=O)C12CC1C(n1cnc3c(NC(C)C)nc(C#Cc4ccc(Cl)s...</td>\n",
       "      <td>8.540000</td>\n",
       "    </tr>\n",
       "    <tr>\n",
       "      <th>3243</th>\n",
       "      <td>CCOC(=O)c1cnc(NCC(C)C)n2nc(-c3ccco3)nc12</td>\n",
       "      <td>7.610000</td>\n",
       "    </tr>\n",
       "  </tbody>\n",
       "</table>\n",
       "<p>3244 rows × 2 columns</p>\n",
       "</div>"
      ],
      "text/plain": [
       "                                                 smiles   pchembl\n",
       "0      O=C(Nc1nc2ncccc2n2c(=O)n(-c3ccccc3)nc12)c1ccccc1  7.150000\n",
       "1     CCNC(=O)C1OC(n2cnc3c2ncnc3Nc2ccc(OCC(=O)Nc3ccc...  7.470000\n",
       "2        C#CCn1c(=O)c2c(nc3cc(OC)ccn32)n(Cc2ccccc2)c1=O  8.385000\n",
       "3     CNC(=O)C12CC1C(n1cnc3c1nc(C#CCCCCC(=O)OC)nc3NC...  7.960000\n",
       "4     CCCn1c(=O)c2c(nc3cc(OC)ccn32)n(CCCNC(=O)c2ccc(...  6.163333\n",
       "...                                                 ...       ...\n",
       "3239  CCCn1cc2c(n1)nc(NC(=O)Nc1ccccc1OC)n1nc(-c3ccco...  8.470000\n",
       "3240  COc1ccc(-n2c(C(=O)c3c(C)nc(Nc4ccc(Cl)cc4)s3)cn...  5.800000\n",
       "3241     CNc1ncc(C(=O)NCc2ccc(OC)cc2)c2nc(-c3ccco3)nn12  7.900000\n",
       "3242  CNC(=O)C12CC1C(n1cnc3c(NC(C)C)nc(C#Cc4ccc(Cl)s...  8.540000\n",
       "3243           CCOC(=O)c1cnc(NCC(C)C)n2nc(-c3ccco3)nc12  7.610000\n",
       "\n",
       "[3244 rows x 2 columns]"
      ]
     },
     "metadata": {},
     "output_type": "display_data"
    }
   ],
   "source": [
    "ar_dataset = ar_data[['SMILES', 'pchembl_value_Mean']] # selected columns from the fetched data\n",
    "ar_dataset # this is the dataset with the ligands but the index is all screwed up\n",
    "ar_dataset.reset_index(drop=False, inplace=True)\n",
    "ar_dataset.drop(columns=['index'],inplace=True) #now the index is right\n",
    "ar_dataset = ar_dataset.rename(columns={'SMILES':'smiles','pchembl_value_Mean':'pchembl'}) #renames column\n",
    "display(ar_dataset)"
   ]
  },
  {
   "cell_type": "code",
   "execution_count": 34,
   "id": "7602db97",
   "metadata": {},
   "outputs": [
    {
     "name": "stdout",
     "output_type": "stream",
     "text": [
      "/home/jovyan/project\n"
     ]
    }
   ],
   "source": [
    "current_directory = os.getcwd()\n",
    "print(current_directory) # need to be sure of the directory we work in to import the list"
   ]
  },
  {
   "cell_type": "code",
   "execution_count": 35,
   "id": "867e3966",
   "metadata": {},
   "outputs": [
    {
     "name": "stdout",
     "output_type": "stream",
     "text": [
      "/home/jovyan/project\n"
     ]
    }
   ],
   "source": [
    "export_directory = input('/home/jovyan/project')\n",
    "ar_dataset.to_csv('a3_ligands_chembl_smiles.txt') # dataset is saved into a .txt file\n",
    "\n",
    "# for when i want csv\n",
    "#pd.read_csv('a3_ligands_chembl_smiles.txt')\n",
    "#ar_dataset.to_csv('/home/jovyan/project' + \"/a3_ligands_chembl_smiles.csv\")"
   ]
  }
 ],
 "metadata": {
  "kernelspec": {
   "display_name": "Python 3 (ipykernel)",
   "language": "python",
   "name": "python3"
  },
  "language_info": {
   "codemirror_mode": {
    "name": "ipython",
    "version": 3
   },
   "file_extension": ".py",
   "mimetype": "text/x-python",
   "name": "python",
   "nbconvert_exporter": "python",
   "pygments_lexer": "ipython3",
   "version": "3.9.13"
  }
 },
 "nbformat": 4,
 "nbformat_minor": 5
}
