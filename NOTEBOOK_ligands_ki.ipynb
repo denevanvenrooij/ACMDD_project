{
 "cells": [
  {
   "cell_type": "code",
   "execution_count": 122,
   "id": "e0435bde",
   "metadata": {},
   "outputs": [],
   "source": [
    "import math\n",
    "from pathlib import Path\n",
    "from zipfile import ZipFile\n",
    "from tempfile import TemporaryDirectory\n",
    "\n",
    "import numpy as np\n",
    "import pandas as pd\n",
    "from rdkit.Chem import PandasTools\n",
    "from chembl_webresource_client.new_client import new_client\n",
    "from tqdm.auto import tqdm"
   ]
  },
  {
   "cell_type": "code",
   "execution_count": 123,
   "id": "644d32ed",
   "metadata": {},
   "outputs": [],
   "source": [
    "HERE = Path(_dh[-1])\n",
    "DATA = HERE / \"data\""
   ]
  },
  {
   "cell_type": "code",
   "execution_count": 124,
   "id": "f9ca2e28",
   "metadata": {},
   "outputs": [],
   "source": [
    "targets_api = new_client.target\n",
    "compounds_api = new_client.molecule\n",
    "bioactivities_api = new_client.activity"
   ]
  },
  {
   "cell_type": "code",
   "execution_count": 125,
   "id": "db565055",
   "metadata": {},
   "outputs": [
    {
     "data": {
      "text/plain": [
       "chembl_webresource_client.query_set.QuerySet"
      ]
     },
     "execution_count": 125,
     "metadata": {},
     "output_type": "execute_result"
    }
   ],
   "source": [
    "type(targets_api)"
   ]
  },
  {
   "cell_type": "code",
   "execution_count": 126,
   "id": "16c46aeb",
   "metadata": {},
   "outputs": [],
   "source": [
    "uniprot_id = \"P0DMS8\" # uniprot_id for the A3 receptor"
   ]
  },
  {
   "cell_type": "code",
   "execution_count": 127,
   "id": "25a2e4c4",
   "metadata": {},
   "outputs": [
    {
     "name": "stdout",
     "output_type": "stream",
     "text": [
      "The type of the targets is \"<class 'chembl_webresource_client.query_set.QuerySet'>\"\n"
     ]
    }
   ],
   "source": [
    "# Here I select the target information from ChEMBL and select only a few columns\n",
    "targets = targets_api.get(target_components__accession=uniprot_id).only(\n",
    "    \"target_chembl_id\", \"organism\", \"pref_name\", \"target_type\"\n",
    ")\n",
    "print(f'The type of the targets is \"{type(targets)}\"')"
   ]
  },
  {
   "cell_type": "code",
   "execution_count": 128,
   "id": "607e026c",
   "metadata": {},
   "outputs": [
    {
     "data": {
      "text/html": [
       "<div>\n",
       "<style scoped>\n",
       "    .dataframe tbody tr th:only-of-type {\n",
       "        vertical-align: middle;\n",
       "    }\n",
       "\n",
       "    .dataframe tbody tr th {\n",
       "        vertical-align: top;\n",
       "    }\n",
       "\n",
       "    .dataframe thead th {\n",
       "        text-align: right;\n",
       "    }\n",
       "</style>\n",
       "<table border=\"1\" class=\"dataframe\">\n",
       "  <thead>\n",
       "    <tr style=\"text-align: right;\">\n",
       "      <th></th>\n",
       "      <th>organism</th>\n",
       "      <th>pref_name</th>\n",
       "      <th>target_chembl_id</th>\n",
       "      <th>target_type</th>\n",
       "    </tr>\n",
       "  </thead>\n",
       "  <tbody>\n",
       "    <tr>\n",
       "      <th>0</th>\n",
       "      <td>Homo sapiens</td>\n",
       "      <td>Adenosine A3 receptor</td>\n",
       "      <td>CHEMBL256</td>\n",
       "      <td>SINGLE PROTEIN</td>\n",
       "    </tr>\n",
       "    <tr>\n",
       "      <th>1</th>\n",
       "      <td>Homo sapiens</td>\n",
       "      <td>Adenosine A3 receptor</td>\n",
       "      <td>CHEMBL256</td>\n",
       "      <td>SINGLE PROTEIN</td>\n",
       "    </tr>\n",
       "    <tr>\n",
       "      <th>2</th>\n",
       "      <td>Homo sapiens</td>\n",
       "      <td>Adenosine receptors; A1 &amp; A3</td>\n",
       "      <td>CHEMBL2095195</td>\n",
       "      <td>SELECTIVITY GROUP</td>\n",
       "    </tr>\n",
       "    <tr>\n",
       "      <th>3</th>\n",
       "      <td>Homo sapiens</td>\n",
       "      <td>Adenosine receptors; A2a &amp; A3</td>\n",
       "      <td>CHEMBL2095213</td>\n",
       "      <td>SELECTIVITY GROUP</td>\n",
       "    </tr>\n",
       "    <tr>\n",
       "      <th>4</th>\n",
       "      <td>Homo sapiens</td>\n",
       "      <td>Adenosine receptors; A2b &amp; A3</td>\n",
       "      <td>CHEMBL2095234</td>\n",
       "      <td>SELECTIVITY GROUP</td>\n",
       "    </tr>\n",
       "    <tr>\n",
       "      <th>5</th>\n",
       "      <td>Homo sapiens</td>\n",
       "      <td>Adenosine receptor</td>\n",
       "      <td>CHEMBL2111329</td>\n",
       "      <td>PROTEIN FAMILY</td>\n",
       "    </tr>\n",
       "  </tbody>\n",
       "</table>\n",
       "</div>"
      ],
      "text/plain": [
       "       organism                      pref_name target_chembl_id  \\\n",
       "0  Homo sapiens          Adenosine A3 receptor        CHEMBL256   \n",
       "1  Homo sapiens          Adenosine A3 receptor        CHEMBL256   \n",
       "2  Homo sapiens   Adenosine receptors; A1 & A3    CHEMBL2095195   \n",
       "3  Homo sapiens  Adenosine receptors; A2a & A3    CHEMBL2095213   \n",
       "4  Homo sapiens  Adenosine receptors; A2b & A3    CHEMBL2095234   \n",
       "5  Homo sapiens             Adenosine receptor    CHEMBL2111329   \n",
       "\n",
       "         target_type  \n",
       "0     SINGLE PROTEIN  \n",
       "1     SINGLE PROTEIN  \n",
       "2  SELECTIVITY GROUP  \n",
       "3  SELECTIVITY GROUP  \n",
       "4  SELECTIVITY GROUP  \n",
       "5     PROTEIN FAMILY  "
      ]
     },
     "execution_count": 128,
     "metadata": {},
     "output_type": "execute_result"
    }
   ],
   "source": [
    "targets = pd.DataFrame.from_records(targets)\n",
    "targets # these are the targets that were fetched from ChEMBL"
   ]
  },
  {
   "cell_type": "code",
   "execution_count": 129,
   "id": "dda189d9",
   "metadata": {},
   "outputs": [
    {
     "data": {
      "text/plain": [
       "organism                     Homo sapiens\n",
       "pref_name           Adenosine A3 receptor\n",
       "target_chembl_id                CHEMBL256\n",
       "target_type                SINGLE PROTEIN\n",
       "Name: 0, dtype: object"
      ]
     },
     "execution_count": 129,
     "metadata": {},
     "output_type": "execute_result"
    }
   ],
   "source": [
    "target = targets.iloc[0]\n",
    "target # we select the first from the targets"
   ]
  },
  {
   "cell_type": "code",
   "execution_count": 130,
   "id": "54bffc44",
   "metadata": {},
   "outputs": [
    {
     "name": "stdout",
     "output_type": "stream",
     "text": [
      "The target ChEMBL ID is CHEMBL256\n"
     ]
    }
   ],
   "source": [
    "chembl_id = target.target_chembl_id # now we name it chembl_id\n",
    "print(f\"The target ChEMBL ID is {chembl_id}\") # we double check if we have the right one selected"
   ]
  },
  {
   "cell_type": "code",
   "execution_count": 131,
   "id": "03f3b262",
   "metadata": {},
   "outputs": [
    {
     "name": "stdout",
     "output_type": "stream",
     "text": [
      "Length and type of bioactivities object: 4965, <class 'chembl_webresource_client.query_set.QuerySet'>\n"
     ]
    }
   ],
   "source": [
    "# Time to fetch bioactivity data from ChEMBL\n",
    "# specify the type to select at 'type=\"\"', this time we used Ki instead of IC50\n",
    "\n",
    "bioactivities = bioactivities_api.filter(\n",
    "    target_chembl_id=chembl_id, type=\"Ki\", relation=\"=\", assay_type=\"B\"\n",
    ").only(\n",
    "    \"activity_id\",\n",
    "    \"assay_chembl_id\",\n",
    "    \"assay_description\",\n",
    "    \"assay_type\",\n",
    "    \"molecule_chembl_id\",\n",
    "    \"type\",\n",
    "    \"standard_units\",\n",
    "    \"relation\",\n",
    "    \"standard_value\",\n",
    "    \"target_chembl_id\",\n",
    "    \"target_organism\",\n",
    ")\n",
    "\n",
    "print(f\"Length and type of bioactivities object: {len(bioactivities)}, {type(bioactivities)}\")\n",
    "\n",
    "#This gives us a list with 4965 data points"
   ]
  },
  {
   "cell_type": "code",
   "execution_count": 132,
   "id": "f3e8828c",
   "metadata": {},
   "outputs": [
    {
     "name": "stdout",
     "output_type": "stream",
     "text": [
      "Length and type of first element: 13, <class 'dict'>\n"
     ]
    },
    {
     "data": {
      "text/plain": [
       "{'activity_id': 38532,\n",
       " 'assay_chembl_id': 'CHEMBL641522',\n",
       " 'assay_description': 'In vitro binding affinity at human Adenosine A3 receptor from HEK293 cells by [125I]AB-MECA displacement.',\n",
       " 'assay_type': 'B',\n",
       " 'molecule_chembl_id': 'CHEMBL319971',\n",
       " 'relation': '=',\n",
       " 'standard_units': 'nM',\n",
       " 'standard_value': '14.6',\n",
       " 'target_chembl_id': 'CHEMBL256',\n",
       " 'target_organism': 'Homo sapiens',\n",
       " 'type': 'Ki',\n",
       " 'units': 'nM',\n",
       " 'value': '14.6'}"
      ]
     },
     "execution_count": 132,
     "metadata": {},
     "output_type": "execute_result"
    }
   ],
   "source": [
    "print(f\"Length and type of first element: {len(bioactivities[0])}, {type(bioactivities[0])}\")\n",
    "bioactivities[0]\n",
    "# these are all the columns of the dataframe we are about to make\n",
    "# basically double check again if everything went right, we can see that it did"
   ]
  },
  {
   "cell_type": "code",
   "execution_count": 133,
   "id": "b9ee2c92",
   "metadata": {},
   "outputs": [
    {
     "name": "stdout",
     "output_type": "stream",
     "text": [
      "DataFrame shape: (4966, 13)\n"
     ]
    },
    {
     "data": {
      "text/html": [
       "<div>\n",
       "<style scoped>\n",
       "    .dataframe tbody tr th:only-of-type {\n",
       "        vertical-align: middle;\n",
       "    }\n",
       "\n",
       "    .dataframe tbody tr th {\n",
       "        vertical-align: top;\n",
       "    }\n",
       "\n",
       "    .dataframe thead th {\n",
       "        text-align: right;\n",
       "    }\n",
       "</style>\n",
       "<table border=\"1\" class=\"dataframe\">\n",
       "  <thead>\n",
       "    <tr style=\"text-align: right;\">\n",
       "      <th></th>\n",
       "      <th>activity_id</th>\n",
       "      <th>assay_chembl_id</th>\n",
       "      <th>assay_description</th>\n",
       "      <th>assay_type</th>\n",
       "      <th>molecule_chembl_id</th>\n",
       "      <th>relation</th>\n",
       "      <th>standard_units</th>\n",
       "      <th>standard_value</th>\n",
       "      <th>target_chembl_id</th>\n",
       "      <th>target_organism</th>\n",
       "      <th>type</th>\n",
       "      <th>units</th>\n",
       "      <th>value</th>\n",
       "    </tr>\n",
       "  </thead>\n",
       "  <tbody>\n",
       "    <tr>\n",
       "      <th>0</th>\n",
       "      <td>38532</td>\n",
       "      <td>CHEMBL641522</td>\n",
       "      <td>In vitro binding affinity at human Adenosine A...</td>\n",
       "      <td>B</td>\n",
       "      <td>CHEMBL319971</td>\n",
       "      <td>=</td>\n",
       "      <td>nM</td>\n",
       "      <td>14.6</td>\n",
       "      <td>CHEMBL256</td>\n",
       "      <td>Homo sapiens</td>\n",
       "      <td>Ki</td>\n",
       "      <td>nM</td>\n",
       "      <td>14.6</td>\n",
       "    </tr>\n",
       "    <tr>\n",
       "      <th>1</th>\n",
       "      <td>38532</td>\n",
       "      <td>CHEMBL641522</td>\n",
       "      <td>In vitro binding affinity at human Adenosine A...</td>\n",
       "      <td>B</td>\n",
       "      <td>CHEMBL319971</td>\n",
       "      <td>=</td>\n",
       "      <td>nM</td>\n",
       "      <td>14.6</td>\n",
       "      <td>CHEMBL256</td>\n",
       "      <td>Homo sapiens</td>\n",
       "      <td>Ki</td>\n",
       "      <td>nM</td>\n",
       "      <td>14.6</td>\n",
       "    </tr>\n",
       "    <tr>\n",
       "      <th>2</th>\n",
       "      <td>38794</td>\n",
       "      <td>CHEMBL641961</td>\n",
       "      <td>Displacement of [3H]MRE3008-F20 from human A3 ...</td>\n",
       "      <td>B</td>\n",
       "      <td>CHEMBL132806</td>\n",
       "      <td>=</td>\n",
       "      <td>nM</td>\n",
       "      <td>81.0</td>\n",
       "      <td>CHEMBL256</td>\n",
       "      <td>Homo sapiens</td>\n",
       "      <td>Ki</td>\n",
       "      <td>nM</td>\n",
       "      <td>81.0</td>\n",
       "    </tr>\n",
       "    <tr>\n",
       "      <th>3</th>\n",
       "      <td>39649</td>\n",
       "      <td>CHEMBL641522</td>\n",
       "      <td>In vitro binding affinity at human Adenosine A...</td>\n",
       "      <td>B</td>\n",
       "      <td>CHEMBL88147</td>\n",
       "      <td>=</td>\n",
       "      <td>nM</td>\n",
       "      <td>0.65</td>\n",
       "      <td>CHEMBL256</td>\n",
       "      <td>Homo sapiens</td>\n",
       "      <td>Ki</td>\n",
       "      <td>nM</td>\n",
       "      <td>0.65</td>\n",
       "    </tr>\n",
       "    <tr>\n",
       "      <th>4</th>\n",
       "      <td>39654</td>\n",
       "      <td>CHEMBL641522</td>\n",
       "      <td>In vitro binding affinity at human Adenosine A...</td>\n",
       "      <td>B</td>\n",
       "      <td>CHEMBL97383</td>\n",
       "      <td>=</td>\n",
       "      <td>nM</td>\n",
       "      <td>1813.0</td>\n",
       "      <td>CHEMBL256</td>\n",
       "      <td>Homo sapiens</td>\n",
       "      <td>Ki</td>\n",
       "      <td>nM</td>\n",
       "      <td>1813.0</td>\n",
       "    </tr>\n",
       "  </tbody>\n",
       "</table>\n",
       "</div>"
      ],
      "text/plain": [
       "   activity_id assay_chembl_id  \\\n",
       "0        38532    CHEMBL641522   \n",
       "1        38532    CHEMBL641522   \n",
       "2        38794    CHEMBL641961   \n",
       "3        39649    CHEMBL641522   \n",
       "4        39654    CHEMBL641522   \n",
       "\n",
       "                                   assay_description assay_type  \\\n",
       "0  In vitro binding affinity at human Adenosine A...          B   \n",
       "1  In vitro binding affinity at human Adenosine A...          B   \n",
       "2  Displacement of [3H]MRE3008-F20 from human A3 ...          B   \n",
       "3  In vitro binding affinity at human Adenosine A...          B   \n",
       "4  In vitro binding affinity at human Adenosine A...          B   \n",
       "\n",
       "  molecule_chembl_id relation standard_units standard_value target_chembl_id  \\\n",
       "0       CHEMBL319971        =             nM           14.6        CHEMBL256   \n",
       "1       CHEMBL319971        =             nM           14.6        CHEMBL256   \n",
       "2       CHEMBL132806        =             nM           81.0        CHEMBL256   \n",
       "3        CHEMBL88147        =             nM           0.65        CHEMBL256   \n",
       "4        CHEMBL97383        =             nM         1813.0        CHEMBL256   \n",
       "\n",
       "  target_organism type units   value  \n",
       "0    Homo sapiens   Ki    nM    14.6  \n",
       "1    Homo sapiens   Ki    nM    14.6  \n",
       "2    Homo sapiens   Ki    nM    81.0  \n",
       "3    Homo sapiens   Ki    nM    0.65  \n",
       "4    Homo sapiens   Ki    nM  1813.0  "
      ]
     },
     "execution_count": 133,
     "metadata": {},
     "output_type": "execute_result"
    }
   ],
   "source": [
    "bioactivities_df = pd.DataFrame.from_records(bioactivities)\n",
    "print(f\"DataFrame shape: {bioactivities_df.shape}\")\n",
    "bioactivities_df.head()\n",
    "\n",
    "# we now made a dataframe with compounds that have a Ki value associated with the A3 receptor"
   ]
  },
  {
   "cell_type": "code",
   "execution_count": 134,
   "id": "2a16afef",
   "metadata": {},
   "outputs": [
    {
     "data": {
      "text/plain": [
       "array(['nM', 'uM', 'mM', '%', \"10'-10M\", \"10'3nM\", \"10'-11M\", 'µM'],\n",
       "      dtype=object)"
      ]
     },
     "execution_count": 134,
     "metadata": {},
     "output_type": "execute_result"
    }
   ],
   "source": [
    "bioactivities_df[\"units\"].unique()"
   ]
  },
  {
   "cell_type": "code",
   "execution_count": 135,
   "id": "7cd508e8",
   "metadata": {},
   "outputs": [
    {
     "data": {
      "text/html": [
       "<div>\n",
       "<style scoped>\n",
       "    .dataframe tbody tr th:only-of-type {\n",
       "        vertical-align: middle;\n",
       "    }\n",
       "\n",
       "    .dataframe tbody tr th {\n",
       "        vertical-align: top;\n",
       "    }\n",
       "\n",
       "    .dataframe thead th {\n",
       "        text-align: right;\n",
       "    }\n",
       "</style>\n",
       "<table border=\"1\" class=\"dataframe\">\n",
       "  <thead>\n",
       "    <tr style=\"text-align: right;\">\n",
       "      <th></th>\n",
       "      <th>activity_id</th>\n",
       "      <th>assay_chembl_id</th>\n",
       "      <th>assay_description</th>\n",
       "      <th>assay_type</th>\n",
       "      <th>molecule_chembl_id</th>\n",
       "      <th>relation</th>\n",
       "      <th>standard_units</th>\n",
       "      <th>standard_value</th>\n",
       "      <th>target_chembl_id</th>\n",
       "      <th>target_organism</th>\n",
       "      <th>type</th>\n",
       "    </tr>\n",
       "  </thead>\n",
       "  <tbody>\n",
       "    <tr>\n",
       "      <th>0</th>\n",
       "      <td>38532</td>\n",
       "      <td>CHEMBL641522</td>\n",
       "      <td>In vitro binding affinity at human Adenosine A...</td>\n",
       "      <td>B</td>\n",
       "      <td>CHEMBL319971</td>\n",
       "      <td>=</td>\n",
       "      <td>nM</td>\n",
       "      <td>14.6</td>\n",
       "      <td>CHEMBL256</td>\n",
       "      <td>Homo sapiens</td>\n",
       "      <td>Ki</td>\n",
       "    </tr>\n",
       "    <tr>\n",
       "      <th>1</th>\n",
       "      <td>38532</td>\n",
       "      <td>CHEMBL641522</td>\n",
       "      <td>In vitro binding affinity at human Adenosine A...</td>\n",
       "      <td>B</td>\n",
       "      <td>CHEMBL319971</td>\n",
       "      <td>=</td>\n",
       "      <td>nM</td>\n",
       "      <td>14.6</td>\n",
       "      <td>CHEMBL256</td>\n",
       "      <td>Homo sapiens</td>\n",
       "      <td>Ki</td>\n",
       "    </tr>\n",
       "    <tr>\n",
       "      <th>2</th>\n",
       "      <td>38794</td>\n",
       "      <td>CHEMBL641961</td>\n",
       "      <td>Displacement of [3H]MRE3008-F20 from human A3 ...</td>\n",
       "      <td>B</td>\n",
       "      <td>CHEMBL132806</td>\n",
       "      <td>=</td>\n",
       "      <td>nM</td>\n",
       "      <td>81.0</td>\n",
       "      <td>CHEMBL256</td>\n",
       "      <td>Homo sapiens</td>\n",
       "      <td>Ki</td>\n",
       "    </tr>\n",
       "    <tr>\n",
       "      <th>3</th>\n",
       "      <td>39649</td>\n",
       "      <td>CHEMBL641522</td>\n",
       "      <td>In vitro binding affinity at human Adenosine A...</td>\n",
       "      <td>B</td>\n",
       "      <td>CHEMBL88147</td>\n",
       "      <td>=</td>\n",
       "      <td>nM</td>\n",
       "      <td>0.65</td>\n",
       "      <td>CHEMBL256</td>\n",
       "      <td>Homo sapiens</td>\n",
       "      <td>Ki</td>\n",
       "    </tr>\n",
       "    <tr>\n",
       "      <th>4</th>\n",
       "      <td>39654</td>\n",
       "      <td>CHEMBL641522</td>\n",
       "      <td>In vitro binding affinity at human Adenosine A...</td>\n",
       "      <td>B</td>\n",
       "      <td>CHEMBL97383</td>\n",
       "      <td>=</td>\n",
       "      <td>nM</td>\n",
       "      <td>1813.0</td>\n",
       "      <td>CHEMBL256</td>\n",
       "      <td>Homo sapiens</td>\n",
       "      <td>Ki</td>\n",
       "    </tr>\n",
       "  </tbody>\n",
       "</table>\n",
       "</div>"
      ],
      "text/plain": [
       "   activity_id assay_chembl_id  \\\n",
       "0        38532    CHEMBL641522   \n",
       "1        38532    CHEMBL641522   \n",
       "2        38794    CHEMBL641961   \n",
       "3        39649    CHEMBL641522   \n",
       "4        39654    CHEMBL641522   \n",
       "\n",
       "                                   assay_description assay_type  \\\n",
       "0  In vitro binding affinity at human Adenosine A...          B   \n",
       "1  In vitro binding affinity at human Adenosine A...          B   \n",
       "2  Displacement of [3H]MRE3008-F20 from human A3 ...          B   \n",
       "3  In vitro binding affinity at human Adenosine A...          B   \n",
       "4  In vitro binding affinity at human Adenosine A...          B   \n",
       "\n",
       "  molecule_chembl_id relation standard_units standard_value target_chembl_id  \\\n",
       "0       CHEMBL319971        =             nM           14.6        CHEMBL256   \n",
       "1       CHEMBL319971        =             nM           14.6        CHEMBL256   \n",
       "2       CHEMBL132806        =             nM           81.0        CHEMBL256   \n",
       "3        CHEMBL88147        =             nM           0.65        CHEMBL256   \n",
       "4        CHEMBL97383        =             nM         1813.0        CHEMBL256   \n",
       "\n",
       "  target_organism type  \n",
       "0    Homo sapiens   Ki  \n",
       "1    Homo sapiens   Ki  \n",
       "2    Homo sapiens   Ki  \n",
       "3    Homo sapiens   Ki  \n",
       "4    Homo sapiens   Ki  "
      ]
     },
     "execution_count": 135,
     "metadata": {},
     "output_type": "execute_result"
    }
   ],
   "source": [
    "bioactivities_df.drop([\"units\", \"value\"], axis=1, inplace=True) # drop two columns we don't need\n",
    "bioactivities_df.head()"
   ]
  },
  {
   "cell_type": "code",
   "execution_count": 136,
   "id": "c9021ad9",
   "metadata": {},
   "outputs": [
    {
     "data": {
      "text/plain": [
       "activity_id            int64\n",
       "assay_chembl_id       object\n",
       "assay_description     object\n",
       "assay_type            object\n",
       "molecule_chembl_id    object\n",
       "relation              object\n",
       "standard_units        object\n",
       "standard_value        object\n",
       "target_chembl_id      object\n",
       "target_organism       object\n",
       "type                  object\n",
       "dtype: object"
      ]
     },
     "execution_count": 136,
     "metadata": {},
     "output_type": "execute_result"
    }
   ],
   "source": [
    "bioactivities_df.dtypes"
   ]
  },
  {
   "cell_type": "code",
   "execution_count": 137,
   "id": "fb23586a",
   "metadata": {},
   "outputs": [
    {
     "data": {
      "text/plain": [
       "activity_id             int64\n",
       "assay_chembl_id        object\n",
       "assay_description      object\n",
       "assay_type             object\n",
       "molecule_chembl_id     object\n",
       "relation               object\n",
       "standard_units         object\n",
       "standard_value        float64\n",
       "target_chembl_id       object\n",
       "target_organism        object\n",
       "type                   object\n",
       "dtype: object"
      ]
     },
     "execution_count": 137,
     "metadata": {},
     "output_type": "execute_result"
    }
   ],
   "source": [
    "bioactivities_df = bioactivities_df.astype({\"standard_value\": \"float64\"})\n",
    "bioactivities_df.dtypes #to transform Ki into pKi, the 'standard_value' column must be a float"
   ]
  },
  {
   "cell_type": "code",
   "execution_count": 138,
   "id": "3ddcc70d",
   "metadata": {},
   "outputs": [
    {
     "name": "stdout",
     "output_type": "stream",
     "text": [
      "DataFrame shape: (4966, 11)\n"
     ]
    }
   ],
   "source": [
    "bioactivities_df.dropna(axis=0, how=\"any\", inplace=True)\n",
    "print(f\"DataFrame shape: {bioactivities_df.shape}\")"
   ]
  },
  {
   "cell_type": "code",
   "execution_count": 139,
   "id": "1618a670",
   "metadata": {},
   "outputs": [
    {
     "name": "stdout",
     "output_type": "stream",
     "text": [
      "Units in downloaded data: ['nM' '%' 'µM']\n",
      "Number of non-nM entries:    7\n"
     ]
    }
   ],
   "source": [
    "print(f\"Units in downloaded data: {bioactivities_df['standard_units'].unique()}\")\n",
    "print(\n",
    "    f\"Number of non-nM entries:\\\n",
    "    {bioactivities_df[bioactivities_df['standard_units'] != 'nM'].shape[0]}\"\n",
    ")"
   ]
  },
  {
   "cell_type": "code",
   "execution_count": 140,
   "id": "228f95ed",
   "metadata": {},
   "outputs": [
    {
     "name": "stdout",
     "output_type": "stream",
     "text": [
      "Units after filtering: ['nM']\n"
     ]
    }
   ],
   "source": [
    "bioactivities_df = bioactivities_df[bioactivities_df[\"standard_units\"] == \"nM\"]\n",
    "print(f\"Units after filtering: {bioactivities_df['standard_units'].unique()}\") # only entries with standard_unit nM will be kept"
   ]
  },
  {
   "cell_type": "code",
   "execution_count": 141,
   "id": "0fafa154",
   "metadata": {},
   "outputs": [
    {
     "name": "stdout",
     "output_type": "stream",
     "text": [
      "DataFrame shape: (4959, 11)\n"
     ]
    }
   ],
   "source": [
    "print(f\"DataFrame shape: {bioactivities_df.shape}\") # check how many rows > only a few entries were dropped"
   ]
  },
  {
   "cell_type": "code",
   "execution_count": 142,
   "id": "64154f16",
   "metadata": {},
   "outputs": [
    {
     "name": "stdout",
     "output_type": "stream",
     "text": [
      "DataFrame shape: (3951, 11)\n"
     ]
    }
   ],
   "source": [
    "bioactivities_df.drop_duplicates(\"molecule_chembl_id\", keep=\"first\", inplace=True)\n",
    "print(f\"DataFrame shape: {bioactivities_df.shape}\") # removes duplicates > now more than a thousand entries were dropped\n"
   ]
  },
  {
   "cell_type": "code",
   "execution_count": 143,
   "id": "6ce031ea",
   "metadata": {},
   "outputs": [
    {
     "data": {
      "text/html": [
       "<div>\n",
       "<style scoped>\n",
       "    .dataframe tbody tr th:only-of-type {\n",
       "        vertical-align: middle;\n",
       "    }\n",
       "\n",
       "    .dataframe tbody tr th {\n",
       "        vertical-align: top;\n",
       "    }\n",
       "\n",
       "    .dataframe thead th {\n",
       "        text-align: right;\n",
       "    }\n",
       "</style>\n",
       "<table border=\"1\" class=\"dataframe\">\n",
       "  <thead>\n",
       "    <tr style=\"text-align: right;\">\n",
       "      <th></th>\n",
       "      <th>activity_id</th>\n",
       "      <th>assay_chembl_id</th>\n",
       "      <th>assay_description</th>\n",
       "      <th>assay_type</th>\n",
       "      <th>molecule_chembl_id</th>\n",
       "      <th>relation</th>\n",
       "      <th>standard_units</th>\n",
       "      <th>standard_value</th>\n",
       "      <th>target_chembl_id</th>\n",
       "      <th>target_organism</th>\n",
       "      <th>type</th>\n",
       "    </tr>\n",
       "  </thead>\n",
       "  <tbody>\n",
       "    <tr>\n",
       "      <th>0</th>\n",
       "      <td>38532</td>\n",
       "      <td>CHEMBL641522</td>\n",
       "      <td>In vitro binding affinity at human Adenosine A...</td>\n",
       "      <td>B</td>\n",
       "      <td>CHEMBL319971</td>\n",
       "      <td>=</td>\n",
       "      <td>nM</td>\n",
       "      <td>14.60</td>\n",
       "      <td>CHEMBL256</td>\n",
       "      <td>Homo sapiens</td>\n",
       "      <td>Ki</td>\n",
       "    </tr>\n",
       "    <tr>\n",
       "      <th>1</th>\n",
       "      <td>38794</td>\n",
       "      <td>CHEMBL641961</td>\n",
       "      <td>Displacement of [3H]MRE3008-F20 from human A3 ...</td>\n",
       "      <td>B</td>\n",
       "      <td>CHEMBL132806</td>\n",
       "      <td>=</td>\n",
       "      <td>nM</td>\n",
       "      <td>81.00</td>\n",
       "      <td>CHEMBL256</td>\n",
       "      <td>Homo sapiens</td>\n",
       "      <td>Ki</td>\n",
       "    </tr>\n",
       "    <tr>\n",
       "      <th>2</th>\n",
       "      <td>39649</td>\n",
       "      <td>CHEMBL641522</td>\n",
       "      <td>In vitro binding affinity at human Adenosine A...</td>\n",
       "      <td>B</td>\n",
       "      <td>CHEMBL88147</td>\n",
       "      <td>=</td>\n",
       "      <td>nM</td>\n",
       "      <td>0.65</td>\n",
       "      <td>CHEMBL256</td>\n",
       "      <td>Homo sapiens</td>\n",
       "      <td>Ki</td>\n",
       "    </tr>\n",
       "    <tr>\n",
       "      <th>3</th>\n",
       "      <td>39654</td>\n",
       "      <td>CHEMBL641522</td>\n",
       "      <td>In vitro binding affinity at human Adenosine A...</td>\n",
       "      <td>B</td>\n",
       "      <td>CHEMBL97383</td>\n",
       "      <td>=</td>\n",
       "      <td>nM</td>\n",
       "      <td>1813.00</td>\n",
       "      <td>CHEMBL256</td>\n",
       "      <td>Homo sapiens</td>\n",
       "      <td>Ki</td>\n",
       "    </tr>\n",
       "    <tr>\n",
       "      <th>4</th>\n",
       "      <td>39910</td>\n",
       "      <td>CHEMBL641961</td>\n",
       "      <td>Displacement of [3H]MRE3008-F20 from human A3 ...</td>\n",
       "      <td>B</td>\n",
       "      <td>CHEMBL336217</td>\n",
       "      <td>=</td>\n",
       "      <td>nM</td>\n",
       "      <td>215.00</td>\n",
       "      <td>CHEMBL256</td>\n",
       "      <td>Homo sapiens</td>\n",
       "      <td>Ki</td>\n",
       "    </tr>\n",
       "  </tbody>\n",
       "</table>\n",
       "</div>"
      ],
      "text/plain": [
       "   activity_id assay_chembl_id  \\\n",
       "0        38532    CHEMBL641522   \n",
       "1        38794    CHEMBL641961   \n",
       "2        39649    CHEMBL641522   \n",
       "3        39654    CHEMBL641522   \n",
       "4        39910    CHEMBL641961   \n",
       "\n",
       "                                   assay_description assay_type  \\\n",
       "0  In vitro binding affinity at human Adenosine A...          B   \n",
       "1  Displacement of [3H]MRE3008-F20 from human A3 ...          B   \n",
       "2  In vitro binding affinity at human Adenosine A...          B   \n",
       "3  In vitro binding affinity at human Adenosine A...          B   \n",
       "4  Displacement of [3H]MRE3008-F20 from human A3 ...          B   \n",
       "\n",
       "  molecule_chembl_id relation standard_units  standard_value target_chembl_id  \\\n",
       "0       CHEMBL319971        =             nM           14.60        CHEMBL256   \n",
       "1       CHEMBL132806        =             nM           81.00        CHEMBL256   \n",
       "2        CHEMBL88147        =             nM            0.65        CHEMBL256   \n",
       "3        CHEMBL97383        =             nM         1813.00        CHEMBL256   \n",
       "4       CHEMBL336217        =             nM          215.00        CHEMBL256   \n",
       "\n",
       "  target_organism type  \n",
       "0    Homo sapiens   Ki  \n",
       "1    Homo sapiens   Ki  \n",
       "2    Homo sapiens   Ki  \n",
       "3    Homo sapiens   Ki  \n",
       "4    Homo sapiens   Ki  "
      ]
     },
     "execution_count": 143,
     "metadata": {},
     "output_type": "execute_result"
    }
   ],
   "source": [
    "bioactivities_df.reset_index(drop=True, inplace=True)\n",
    "bioactivities_df.head()"
   ]
  },
  {
   "cell_type": "code",
   "execution_count": 144,
   "id": "cc25f4ea",
   "metadata": {},
   "outputs": [
    {
     "data": {
      "text/html": [
       "<div>\n",
       "<style scoped>\n",
       "    .dataframe tbody tr th:only-of-type {\n",
       "        vertical-align: middle;\n",
       "    }\n",
       "\n",
       "    .dataframe tbody tr th {\n",
       "        vertical-align: top;\n",
       "    }\n",
       "\n",
       "    .dataframe thead th {\n",
       "        text-align: right;\n",
       "    }\n",
       "</style>\n",
       "<table border=\"1\" class=\"dataframe\">\n",
       "  <thead>\n",
       "    <tr style=\"text-align: right;\">\n",
       "      <th></th>\n",
       "      <th>activity_id</th>\n",
       "      <th>assay_chembl_id</th>\n",
       "      <th>assay_description</th>\n",
       "      <th>assay_type</th>\n",
       "      <th>molecule_chembl_id</th>\n",
       "      <th>relation</th>\n",
       "      <th>units</th>\n",
       "      <th>Ki</th>\n",
       "      <th>target_chembl_id</th>\n",
       "      <th>target_organism</th>\n",
       "      <th>type</th>\n",
       "    </tr>\n",
       "  </thead>\n",
       "  <tbody>\n",
       "    <tr>\n",
       "      <th>0</th>\n",
       "      <td>38532</td>\n",
       "      <td>CHEMBL641522</td>\n",
       "      <td>In vitro binding affinity at human Adenosine A...</td>\n",
       "      <td>B</td>\n",
       "      <td>CHEMBL319971</td>\n",
       "      <td>=</td>\n",
       "      <td>nM</td>\n",
       "      <td>14.60</td>\n",
       "      <td>CHEMBL256</td>\n",
       "      <td>Homo sapiens</td>\n",
       "      <td>Ki</td>\n",
       "    </tr>\n",
       "    <tr>\n",
       "      <th>1</th>\n",
       "      <td>38794</td>\n",
       "      <td>CHEMBL641961</td>\n",
       "      <td>Displacement of [3H]MRE3008-F20 from human A3 ...</td>\n",
       "      <td>B</td>\n",
       "      <td>CHEMBL132806</td>\n",
       "      <td>=</td>\n",
       "      <td>nM</td>\n",
       "      <td>81.00</td>\n",
       "      <td>CHEMBL256</td>\n",
       "      <td>Homo sapiens</td>\n",
       "      <td>Ki</td>\n",
       "    </tr>\n",
       "    <tr>\n",
       "      <th>2</th>\n",
       "      <td>39649</td>\n",
       "      <td>CHEMBL641522</td>\n",
       "      <td>In vitro binding affinity at human Adenosine A...</td>\n",
       "      <td>B</td>\n",
       "      <td>CHEMBL88147</td>\n",
       "      <td>=</td>\n",
       "      <td>nM</td>\n",
       "      <td>0.65</td>\n",
       "      <td>CHEMBL256</td>\n",
       "      <td>Homo sapiens</td>\n",
       "      <td>Ki</td>\n",
       "    </tr>\n",
       "    <tr>\n",
       "      <th>3</th>\n",
       "      <td>39654</td>\n",
       "      <td>CHEMBL641522</td>\n",
       "      <td>In vitro binding affinity at human Adenosine A...</td>\n",
       "      <td>B</td>\n",
       "      <td>CHEMBL97383</td>\n",
       "      <td>=</td>\n",
       "      <td>nM</td>\n",
       "      <td>1813.00</td>\n",
       "      <td>CHEMBL256</td>\n",
       "      <td>Homo sapiens</td>\n",
       "      <td>Ki</td>\n",
       "    </tr>\n",
       "    <tr>\n",
       "      <th>4</th>\n",
       "      <td>39910</td>\n",
       "      <td>CHEMBL641961</td>\n",
       "      <td>Displacement of [3H]MRE3008-F20 from human A3 ...</td>\n",
       "      <td>B</td>\n",
       "      <td>CHEMBL336217</td>\n",
       "      <td>=</td>\n",
       "      <td>nM</td>\n",
       "      <td>215.00</td>\n",
       "      <td>CHEMBL256</td>\n",
       "      <td>Homo sapiens</td>\n",
       "      <td>Ki</td>\n",
       "    </tr>\n",
       "  </tbody>\n",
       "</table>\n",
       "</div>"
      ],
      "text/plain": [
       "   activity_id assay_chembl_id  \\\n",
       "0        38532    CHEMBL641522   \n",
       "1        38794    CHEMBL641961   \n",
       "2        39649    CHEMBL641522   \n",
       "3        39654    CHEMBL641522   \n",
       "4        39910    CHEMBL641961   \n",
       "\n",
       "                                   assay_description assay_type  \\\n",
       "0  In vitro binding affinity at human Adenosine A...          B   \n",
       "1  Displacement of [3H]MRE3008-F20 from human A3 ...          B   \n",
       "2  In vitro binding affinity at human Adenosine A...          B   \n",
       "3  In vitro binding affinity at human Adenosine A...          B   \n",
       "4  Displacement of [3H]MRE3008-F20 from human A3 ...          B   \n",
       "\n",
       "  molecule_chembl_id relation units       Ki target_chembl_id target_organism  \\\n",
       "0       CHEMBL319971        =    nM    14.60        CHEMBL256    Homo sapiens   \n",
       "1       CHEMBL132806        =    nM    81.00        CHEMBL256    Homo sapiens   \n",
       "2        CHEMBL88147        =    nM     0.65        CHEMBL256    Homo sapiens   \n",
       "3        CHEMBL97383        =    nM  1813.00        CHEMBL256    Homo sapiens   \n",
       "4       CHEMBL336217        =    nM   215.00        CHEMBL256    Homo sapiens   \n",
       "\n",
       "  type  \n",
       "0   Ki  \n",
       "1   Ki  \n",
       "2   Ki  \n",
       "3   Ki  \n",
       "4   Ki  "
      ]
     },
     "execution_count": 144,
     "metadata": {},
     "output_type": "execute_result"
    }
   ],
   "source": [
    "bioactivities_df.rename(\n",
    "    columns={\"standard_value\": \"Ki\", \"standard_units\": \"units\"}, inplace=True\n",
    ")\n",
    "bioactivities_df.head() # renaming of columns"
   ]
  },
  {
   "cell_type": "code",
   "execution_count": 145,
   "id": "ccae7c9f",
   "metadata": {},
   "outputs": [
    {
     "name": "stdout",
     "output_type": "stream",
     "text": [
      "DataFrame shape: (3951, 11)\n"
     ]
    }
   ],
   "source": [
    "print(f\"DataFrame shape: {bioactivities_df.shape}\") # check how many columns"
   ]
  },
  {
   "cell_type": "code",
   "execution_count": 146,
   "id": "554e89fc",
   "metadata": {},
   "outputs": [],
   "source": [
    "# Now we can fetch compound data for the list we created\n",
    "compounds_provider = compounds_api.filter(\n",
    "    molecule_chembl_id__in=list(bioactivities_df[\"molecule_chembl_id\"])\n",
    ").only(\"molecule_chembl_id\", \"molecule_structures\")"
   ]
  },
  {
   "cell_type": "code",
   "execution_count": 147,
   "id": "eac5e4ff",
   "metadata": {},
   "outputs": [
    {
     "data": {
      "application/vnd.jupyter.widget-view+json": {
       "model_id": "7d1b288c5539468f8ea24297ac26bd05",
       "version_major": 2,
       "version_minor": 0
      },
      "text/plain": [
       "  0%|          | 0/3951 [00:00<?, ?it/s]"
      ]
     },
     "metadata": {},
     "output_type": "display_data"
    }
   ],
   "source": [
    "compounds = list(tqdm(compounds_provider))"
   ]
  },
  {
   "cell_type": "code",
   "execution_count": 148,
   "id": "e8a10c23",
   "metadata": {},
   "outputs": [
    {
     "name": "stdout",
     "output_type": "stream",
     "text": [
      "DataFrame shape: (3951, 2)\n"
     ]
    }
   ],
   "source": [
    "compounds_df = pd.DataFrame.from_records(\n",
    "    compounds,\n",
    ")\n",
    "print(f\"DataFrame shape: {compounds_df.shape}\") # new df with only smiles and chembl_id's"
   ]
  },
  {
   "cell_type": "code",
   "execution_count": 149,
   "id": "58a2b10e",
   "metadata": {},
   "outputs": [
    {
     "data": {
      "text/html": [
       "<div>\n",
       "<style scoped>\n",
       "    .dataframe tbody tr th:only-of-type {\n",
       "        vertical-align: middle;\n",
       "    }\n",
       "\n",
       "    .dataframe tbody tr th {\n",
       "        vertical-align: top;\n",
       "    }\n",
       "\n",
       "    .dataframe thead th {\n",
       "        text-align: right;\n",
       "    }\n",
       "</style>\n",
       "<table border=\"1\" class=\"dataframe\">\n",
       "  <thead>\n",
       "    <tr style=\"text-align: right;\">\n",
       "      <th></th>\n",
       "      <th>molecule_chembl_id</th>\n",
       "      <th>molecule_structures</th>\n",
       "    </tr>\n",
       "  </thead>\n",
       "  <tbody>\n",
       "    <tr>\n",
       "      <th>0</th>\n",
       "      <td>CHEMBL408</td>\n",
       "      <td>{'canonical_smiles': 'Cc1c(C)c2c(c(C)c1O)CCC(C...</td>\n",
       "    </tr>\n",
       "    <tr>\n",
       "      <th>1</th>\n",
       "      <td>CHEMBL411</td>\n",
       "      <td>{'canonical_smiles': 'CC/C(=C(/CC)c1ccc(O)cc1)...</td>\n",
       "    </tr>\n",
       "    <tr>\n",
       "      <th>2</th>\n",
       "      <td>CHEMBL7002</td>\n",
       "      <td>{'canonical_smiles': 'CC1(COc2ccc(CC3SC(=O)NC3...</td>\n",
       "    </tr>\n",
       "    <tr>\n",
       "      <th>3</th>\n",
       "      <td>CHEMBL38</td>\n",
       "      <td>{'canonical_smiles': 'CC1=C(/C=C/C(C)=C/C=C/C(...</td>\n",
       "    </tr>\n",
       "    <tr>\n",
       "      <th>4</th>\n",
       "      <td>CHEMBL7266</td>\n",
       "      <td>{'canonical_smiles': 'Nc1nc2ccc(Cl)cc2c2nc(-c3...</td>\n",
       "    </tr>\n",
       "  </tbody>\n",
       "</table>\n",
       "</div>"
      ],
      "text/plain": [
       "  molecule_chembl_id                                molecule_structures\n",
       "0          CHEMBL408  {'canonical_smiles': 'Cc1c(C)c2c(c(C)c1O)CCC(C...\n",
       "1          CHEMBL411  {'canonical_smiles': 'CC/C(=C(/CC)c1ccc(O)cc1)...\n",
       "2         CHEMBL7002  {'canonical_smiles': 'CC1(COc2ccc(CC3SC(=O)NC3...\n",
       "3           CHEMBL38  {'canonical_smiles': 'CC1=C(/C=C/C(C)=C/C=C/C(...\n",
       "4         CHEMBL7266  {'canonical_smiles': 'Nc1nc2ccc(Cl)cc2c2nc(-c3..."
      ]
     },
     "execution_count": 149,
     "metadata": {},
     "output_type": "execute_result"
    }
   ],
   "source": [
    "compounds_df.head() # check"
   ]
  },
  {
   "cell_type": "code",
   "execution_count": 150,
   "id": "8dc74ac0",
   "metadata": {},
   "outputs": [
    {
     "name": "stdout",
     "output_type": "stream",
     "text": [
      "DataFrame shape: (3945, 2)\n"
     ]
    }
   ],
   "source": [
    "compounds_df.dropna(axis=0, how=\"any\", inplace=True)\n",
    "print(f\"DataFrame shape: {compounds_df.shape}\")"
   ]
  },
  {
   "cell_type": "code",
   "execution_count": 151,
   "id": "5c028f6d",
   "metadata": {},
   "outputs": [
    {
     "name": "stdout",
     "output_type": "stream",
     "text": [
      "DataFrame shape: (3945, 2)\n"
     ]
    }
   ],
   "source": [
    "compounds_df.drop_duplicates(\"molecule_chembl_id\", keep=\"first\", inplace=True)\n",
    "print(f\"DataFrame shape: {compounds_df.shape}\") # no duplicate entries in this case"
   ]
  },
  {
   "cell_type": "code",
   "execution_count": 152,
   "id": "548365eb",
   "metadata": {},
   "outputs": [
    {
     "data": {
      "text/plain": [
       "dict_keys(['canonical_smiles', 'molfile', 'standard_inchi', 'standard_inchi_key'])"
      ]
     },
     "execution_count": 152,
     "metadata": {},
     "output_type": "execute_result"
    }
   ],
   "source": [
    "compounds_df.iloc[0].molecule_structures.keys()"
   ]
  },
  {
   "cell_type": "code",
   "execution_count": 153,
   "id": "cf00f9ab",
   "metadata": {},
   "outputs": [
    {
     "name": "stdout",
     "output_type": "stream",
     "text": [
      "DataFrame shape: (3945, 2)\n"
     ]
    },
    {
     "data": {
      "text/html": [
       "<div>\n",
       "<style scoped>\n",
       "    .dataframe tbody tr th:only-of-type {\n",
       "        vertical-align: middle;\n",
       "    }\n",
       "\n",
       "    .dataframe tbody tr th {\n",
       "        vertical-align: top;\n",
       "    }\n",
       "\n",
       "    .dataframe thead th {\n",
       "        text-align: right;\n",
       "    }\n",
       "</style>\n",
       "<table border=\"1\" class=\"dataframe\">\n",
       "  <thead>\n",
       "    <tr style=\"text-align: right;\">\n",
       "      <th></th>\n",
       "      <th>molecule_chembl_id</th>\n",
       "      <th>smiles</th>\n",
       "    </tr>\n",
       "  </thead>\n",
       "  <tbody>\n",
       "    <tr>\n",
       "      <th>0</th>\n",
       "      <td>CHEMBL408</td>\n",
       "      <td>Cc1c(C)c2c(c(C)c1O)CCC(C)(COc1ccc(CC3SC(=O)NC3...</td>\n",
       "    </tr>\n",
       "    <tr>\n",
       "      <th>1</th>\n",
       "      <td>CHEMBL411</td>\n",
       "      <td>CC/C(=C(/CC)c1ccc(O)cc1)c1ccc(O)cc1</td>\n",
       "    </tr>\n",
       "    <tr>\n",
       "      <th>2</th>\n",
       "      <td>CHEMBL7002</td>\n",
       "      <td>CC1(COc2ccc(CC3SC(=O)NC3=O)cc2)CCCCC1</td>\n",
       "    </tr>\n",
       "    <tr>\n",
       "      <th>3</th>\n",
       "      <td>CHEMBL38</td>\n",
       "      <td>CC1=C(/C=C/C(C)=C/C=C/C(C)=C/C(=O)O)C(C)(C)CCC1</td>\n",
       "    </tr>\n",
       "    <tr>\n",
       "      <th>4</th>\n",
       "      <td>CHEMBL7266</td>\n",
       "      <td>Nc1nc2ccc(Cl)cc2c2nc(-c3ccc(Br)o3)nn12</td>\n",
       "    </tr>\n",
       "  </tbody>\n",
       "</table>\n",
       "</div>"
      ],
      "text/plain": [
       "  molecule_chembl_id                                             smiles\n",
       "0          CHEMBL408  Cc1c(C)c2c(c(C)c1O)CCC(C)(COc1ccc(CC3SC(=O)NC3...\n",
       "1          CHEMBL411                CC/C(=C(/CC)c1ccc(O)cc1)c1ccc(O)cc1\n",
       "2         CHEMBL7002              CC1(COc2ccc(CC3SC(=O)NC3=O)cc2)CCCCC1\n",
       "3           CHEMBL38    CC1=C(/C=C/C(C)=C/C=C/C(C)=C/C(=O)O)C(C)(C)CCC1\n",
       "4         CHEMBL7266             Nc1nc2ccc(Cl)cc2c2nc(-c3ccc(Br)o3)nn12"
      ]
     },
     "execution_count": 153,
     "metadata": {},
     "output_type": "execute_result"
    }
   ],
   "source": [
    "canonical_smiles = []\n",
    "\n",
    "for i, compounds in compounds_df.iterrows():\n",
    "    try:\n",
    "        canonical_smiles.append(compounds[\"molecule_structures\"][\"canonical_smiles\"])\n",
    "    except KeyError:\n",
    "        canonical_smiles.append(None)\n",
    "\n",
    "compounds_df[\"smiles\"] = canonical_smiles\n",
    "compounds_df.drop(\"molecule_structures\", axis=1, inplace=True)\n",
    "print(f\"DataFrame shape: {compounds_df.shape}\") # transforms the smiles column into workable entries\n",
    "compounds_df.head() # check if it worked"
   ]
  },
  {
   "cell_type": "code",
   "execution_count": 154,
   "id": "94d95f0b",
   "metadata": {},
   "outputs": [
    {
     "name": "stdout",
     "output_type": "stream",
     "text": [
      "DataFrame shape: (3945, 2)\n",
      "\n"
     ]
    }
   ],
   "source": [
    "compounds_df.dropna(axis=0, how=\"any\", inplace=True)\n",
    "print(f\"DataFrame shape: {compounds_df.shape}\")\n",
    "print()"
   ]
  },
  {
   "cell_type": "code",
   "execution_count": 155,
   "id": "bceb3ae7",
   "metadata": {},
   "outputs": [
    {
     "name": "stdout",
     "output_type": "stream",
     "text": [
      "Bioactivities filtered: 3951\n"
     ]
    },
    {
     "data": {
      "text/plain": [
       "Index(['activity_id', 'assay_chembl_id', 'assay_description', 'assay_type',\n",
       "       'molecule_chembl_id', 'relation', 'units', 'Ki', 'target_chembl_id',\n",
       "       'target_organism', 'type'],\n",
       "      dtype='object')"
      ]
     },
     "execution_count": 155,
     "metadata": {},
     "output_type": "execute_result"
    }
   ],
   "source": [
    "# Now we can output the bioactivity data\n",
    "print(f\"Bioactivities filtered: {bioactivities_df.shape[0]}\")\n",
    "bioactivities_df.columns"
   ]
  },
  {
   "cell_type": "code",
   "execution_count": 156,
   "id": "55039573",
   "metadata": {},
   "outputs": [
    {
     "name": "stdout",
     "output_type": "stream",
     "text": [
      "Compounds filtered: 3945\n"
     ]
    },
    {
     "data": {
      "text/plain": [
       "Index(['molecule_chembl_id', 'smiles'], dtype='object')"
      ]
     },
     "execution_count": 156,
     "metadata": {},
     "output_type": "execute_result"
    }
   ],
   "source": [
    "print(f\"Compounds filtered: {compounds_df.shape[0]}\")\n",
    "compounds_df.columns"
   ]
  },
  {
   "cell_type": "code",
   "execution_count": 157,
   "id": "cb5a1b7a",
   "metadata": {},
   "outputs": [
    {
     "name": "stdout",
     "output_type": "stream",
     "text": [
      "Dataset with 3945 entries.\n"
     ]
    }
   ],
   "source": [
    "# We merge the dataframes from the two notebooks above on the column ChEMBL_ID\n",
    "output_df = pd.merge(\n",
    "    bioactivities_df[[\"molecule_chembl_id\", \"Ki\", \"units\"]],\n",
    "    compounds_df,\n",
    "    on=\"molecule_chembl_id\",\n",
    ")\n",
    "\n",
    "output_df.reset_index(drop=True, inplace=True) # reset index\n",
    "\n",
    "print(f\"Dataset with {output_df.shape[0]} entries.\") # check the amount of entries"
   ]
  },
  {
   "cell_type": "code",
   "execution_count": 158,
   "id": "07e6a5d5",
   "metadata": {},
   "outputs": [
    {
     "data": {
      "text/plain": [
       "molecule_chembl_id     object\n",
       "Ki                    float64\n",
       "units                  object\n",
       "smiles                 object\n",
       "dtype: object"
      ]
     },
     "execution_count": 158,
     "metadata": {},
     "output_type": "execute_result"
    }
   ],
   "source": [
    "output_df.dtypes"
   ]
  },
  {
   "cell_type": "code",
   "execution_count": 159,
   "id": "a981dea7",
   "metadata": {},
   "outputs": [
    {
     "data": {
      "text/html": [
       "<div>\n",
       "<style scoped>\n",
       "    .dataframe tbody tr th:only-of-type {\n",
       "        vertical-align: middle;\n",
       "    }\n",
       "\n",
       "    .dataframe tbody tr th {\n",
       "        vertical-align: top;\n",
       "    }\n",
       "\n",
       "    .dataframe thead th {\n",
       "        text-align: right;\n",
       "    }\n",
       "</style>\n",
       "<table border=\"1\" class=\"dataframe\">\n",
       "  <thead>\n",
       "    <tr style=\"text-align: right;\">\n",
       "      <th></th>\n",
       "      <th>molecule_chembl_id</th>\n",
       "      <th>Ki</th>\n",
       "      <th>units</th>\n",
       "      <th>smiles</th>\n",
       "    </tr>\n",
       "  </thead>\n",
       "  <tbody>\n",
       "    <tr>\n",
       "      <th>0</th>\n",
       "      <td>CHEMBL319971</td>\n",
       "      <td>14.60</td>\n",
       "      <td>nM</td>\n",
       "      <td>CCCC(=O)Nc1nc2ccc(Cl)cc2c2nc(-c3ccco3)nn12</td>\n",
       "    </tr>\n",
       "    <tr>\n",
       "      <th>1</th>\n",
       "      <td>CHEMBL132806</td>\n",
       "      <td>81.00</td>\n",
       "      <td>nM</td>\n",
       "      <td>CC(C)CCn1cc2c(nc(NC(=O)Cc3ccccc3)n3nc(-c4ccco4...</td>\n",
       "    </tr>\n",
       "    <tr>\n",
       "      <th>2</th>\n",
       "      <td>CHEMBL88147</td>\n",
       "      <td>0.65</td>\n",
       "      <td>nM</td>\n",
       "      <td>O=C(Cc1ccccc1)Nc1nc2ccc(Cl)cc2c2nc(-c3ccco3)nn12</td>\n",
       "    </tr>\n",
       "    <tr>\n",
       "      <th>3</th>\n",
       "      <td>CHEMBL97383</td>\n",
       "      <td>1813.00</td>\n",
       "      <td>nM</td>\n",
       "      <td>CCCn1c(=O)n2nc(-c3ccco3)nc2c2cc(Cl)ccc21</td>\n",
       "    </tr>\n",
       "    <tr>\n",
       "      <th>4</th>\n",
       "      <td>CHEMBL336217</td>\n",
       "      <td>215.00</td>\n",
       "      <td>nM</td>\n",
       "      <td>CC(C)CCn1cc2c(nc(NC(=O)Cc3cccc4ccccc34)n3nc(-c...</td>\n",
       "    </tr>\n",
       "    <tr>\n",
       "      <th>5</th>\n",
       "      <td>CHEMBL318251</td>\n",
       "      <td>13.90</td>\n",
       "      <td>nM</td>\n",
       "      <td>CC(=O)Nc1nc2ccc(Cl)cc2c2nc(-c3ccco3)nn12</td>\n",
       "    </tr>\n",
       "    <tr>\n",
       "      <th>6</th>\n",
       "      <td>CHEMBL100195</td>\n",
       "      <td>32.90</td>\n",
       "      <td>nM</td>\n",
       "      <td>CC(C)(C)OC(=O)NCCCC(=O)Nc1nc2ccc(Cl)cc2c2nc(-c...</td>\n",
       "    </tr>\n",
       "    <tr>\n",
       "      <th>7</th>\n",
       "      <td>CHEMBL134566</td>\n",
       "      <td>121.00</td>\n",
       "      <td>nM</td>\n",
       "      <td>O=C(Cc1ccccc1)Nc1nc2nn(CCCc3ccccc3)cc2c2nc(-c3...</td>\n",
       "    </tr>\n",
       "    <tr>\n",
       "      <th>8</th>\n",
       "      <td>CHEMBL435022</td>\n",
       "      <td>50.00</td>\n",
       "      <td>nM</td>\n",
       "      <td>CC(C)CCn1cc2c(nc(NC(=O)COc3ccccc3)n3nc(-c4ccco...</td>\n",
       "    </tr>\n",
       "    <tr>\n",
       "      <th>9</th>\n",
       "      <td>CHEMBL341376</td>\n",
       "      <td>0.81</td>\n",
       "      <td>nM</td>\n",
       "      <td>Cn1cc2c(nc(NC(=O)Cc3ccccc3)n3nc(-c4ccco4)nc23)n1</td>\n",
       "    </tr>\n",
       "  </tbody>\n",
       "</table>\n",
       "</div>"
      ],
      "text/plain": [
       "  molecule_chembl_id       Ki units  \\\n",
       "0       CHEMBL319971    14.60    nM   \n",
       "1       CHEMBL132806    81.00    nM   \n",
       "2        CHEMBL88147     0.65    nM   \n",
       "3        CHEMBL97383  1813.00    nM   \n",
       "4       CHEMBL336217   215.00    nM   \n",
       "5       CHEMBL318251    13.90    nM   \n",
       "6       CHEMBL100195    32.90    nM   \n",
       "7       CHEMBL134566   121.00    nM   \n",
       "8       CHEMBL435022    50.00    nM   \n",
       "9       CHEMBL341376     0.81    nM   \n",
       "\n",
       "                                              smiles  \n",
       "0         CCCC(=O)Nc1nc2ccc(Cl)cc2c2nc(-c3ccco3)nn12  \n",
       "1  CC(C)CCn1cc2c(nc(NC(=O)Cc3ccccc3)n3nc(-c4ccco4...  \n",
       "2   O=C(Cc1ccccc1)Nc1nc2ccc(Cl)cc2c2nc(-c3ccco3)nn12  \n",
       "3           CCCn1c(=O)n2nc(-c3ccco3)nc2c2cc(Cl)ccc21  \n",
       "4  CC(C)CCn1cc2c(nc(NC(=O)Cc3cccc4ccccc34)n3nc(-c...  \n",
       "5           CC(=O)Nc1nc2ccc(Cl)cc2c2nc(-c3ccco3)nn12  \n",
       "6  CC(C)(C)OC(=O)NCCCC(=O)Nc1nc2ccc(Cl)cc2c2nc(-c...  \n",
       "7  O=C(Cc1ccccc1)Nc1nc2nn(CCCc3ccccc3)cc2c2nc(-c3...  \n",
       "8  CC(C)CCn1cc2c(nc(NC(=O)COc3ccccc3)n3nc(-c4ccco...  \n",
       "9   Cn1cc2c(nc(NC(=O)Cc3ccccc3)n3nc(-c4ccco4)nc23)n1  "
      ]
     },
     "execution_count": 159,
     "metadata": {},
     "output_type": "execute_result"
    }
   ],
   "source": [
    "output_df.head(10)"
   ]
  },
  {
   "cell_type": "code",
   "execution_count": 160,
   "id": "b1deabda",
   "metadata": {},
   "outputs": [],
   "source": [
    "# function to convert Ki into pKi\n",
    "def convert_ki_to_pki(Ki_value):\n",
    "    pKi_value = 9 - math.log10(Ki_value)\n",
    "    return pKi_value"
   ]
  },
  {
   "cell_type": "code",
   "execution_count": 161,
   "id": "8d8b58b8",
   "metadata": {},
   "outputs": [],
   "source": [
    "# We apply this function to each entry and create a new column for it\n",
    "output_df[\"pKi\"] = output_df.apply(lambda x: convert_ki_to_pki(x.Ki), axis=1)"
   ]
  },
  {
   "cell_type": "code",
   "execution_count": 162,
   "id": "92942bc9",
   "metadata": {},
   "outputs": [
    {
     "data": {
      "text/html": [
       "<div>\n",
       "<style scoped>\n",
       "    .dataframe tbody tr th:only-of-type {\n",
       "        vertical-align: middle;\n",
       "    }\n",
       "\n",
       "    .dataframe tbody tr th {\n",
       "        vertical-align: top;\n",
       "    }\n",
       "\n",
       "    .dataframe thead th {\n",
       "        text-align: right;\n",
       "    }\n",
       "</style>\n",
       "<table border=\"1\" class=\"dataframe\">\n",
       "  <thead>\n",
       "    <tr style=\"text-align: right;\">\n",
       "      <th></th>\n",
       "      <th>molecule_chembl_id</th>\n",
       "      <th>Ki</th>\n",
       "      <th>units</th>\n",
       "      <th>smiles</th>\n",
       "      <th>pKi</th>\n",
       "    </tr>\n",
       "  </thead>\n",
       "  <tbody>\n",
       "    <tr>\n",
       "      <th>0</th>\n",
       "      <td>CHEMBL319971</td>\n",
       "      <td>14.60</td>\n",
       "      <td>nM</td>\n",
       "      <td>CCCC(=O)Nc1nc2ccc(Cl)cc2c2nc(-c3ccco3)nn12</td>\n",
       "      <td>7.835647</td>\n",
       "    </tr>\n",
       "    <tr>\n",
       "      <th>1</th>\n",
       "      <td>CHEMBL132806</td>\n",
       "      <td>81.00</td>\n",
       "      <td>nM</td>\n",
       "      <td>CC(C)CCn1cc2c(nc(NC(=O)Cc3ccccc3)n3nc(-c4ccco4...</td>\n",
       "      <td>7.091515</td>\n",
       "    </tr>\n",
       "    <tr>\n",
       "      <th>2</th>\n",
       "      <td>CHEMBL88147</td>\n",
       "      <td>0.65</td>\n",
       "      <td>nM</td>\n",
       "      <td>O=C(Cc1ccccc1)Nc1nc2ccc(Cl)cc2c2nc(-c3ccco3)nn12</td>\n",
       "      <td>9.187087</td>\n",
       "    </tr>\n",
       "    <tr>\n",
       "      <th>3</th>\n",
       "      <td>CHEMBL97383</td>\n",
       "      <td>1813.00</td>\n",
       "      <td>nM</td>\n",
       "      <td>CCCn1c(=O)n2nc(-c3ccco3)nc2c2cc(Cl)ccc21</td>\n",
       "      <td>5.741602</td>\n",
       "    </tr>\n",
       "    <tr>\n",
       "      <th>4</th>\n",
       "      <td>CHEMBL336217</td>\n",
       "      <td>215.00</td>\n",
       "      <td>nM</td>\n",
       "      <td>CC(C)CCn1cc2c(nc(NC(=O)Cc3cccc4ccccc34)n3nc(-c...</td>\n",
       "      <td>6.667562</td>\n",
       "    </tr>\n",
       "    <tr>\n",
       "      <th>5</th>\n",
       "      <td>CHEMBL318251</td>\n",
       "      <td>13.90</td>\n",
       "      <td>nM</td>\n",
       "      <td>CC(=O)Nc1nc2ccc(Cl)cc2c2nc(-c3ccco3)nn12</td>\n",
       "      <td>7.856985</td>\n",
       "    </tr>\n",
       "    <tr>\n",
       "      <th>6</th>\n",
       "      <td>CHEMBL100195</td>\n",
       "      <td>32.90</td>\n",
       "      <td>nM</td>\n",
       "      <td>CC(C)(C)OC(=O)NCCCC(=O)Nc1nc2ccc(Cl)cc2c2nc(-c...</td>\n",
       "      <td>7.482804</td>\n",
       "    </tr>\n",
       "    <tr>\n",
       "      <th>7</th>\n",
       "      <td>CHEMBL134566</td>\n",
       "      <td>121.00</td>\n",
       "      <td>nM</td>\n",
       "      <td>O=C(Cc1ccccc1)Nc1nc2nn(CCCc3ccccc3)cc2c2nc(-c3...</td>\n",
       "      <td>6.917215</td>\n",
       "    </tr>\n",
       "    <tr>\n",
       "      <th>8</th>\n",
       "      <td>CHEMBL435022</td>\n",
       "      <td>50.00</td>\n",
       "      <td>nM</td>\n",
       "      <td>CC(C)CCn1cc2c(nc(NC(=O)COc3ccccc3)n3nc(-c4ccco...</td>\n",
       "      <td>7.301030</td>\n",
       "    </tr>\n",
       "    <tr>\n",
       "      <th>9</th>\n",
       "      <td>CHEMBL341376</td>\n",
       "      <td>0.81</td>\n",
       "      <td>nM</td>\n",
       "      <td>Cn1cc2c(nc(NC(=O)Cc3ccccc3)n3nc(-c4ccco4)nc23)n1</td>\n",
       "      <td>9.091515</td>\n",
       "    </tr>\n",
       "  </tbody>\n",
       "</table>\n",
       "</div>"
      ],
      "text/plain": [
       "  molecule_chembl_id       Ki units  \\\n",
       "0       CHEMBL319971    14.60    nM   \n",
       "1       CHEMBL132806    81.00    nM   \n",
       "2        CHEMBL88147     0.65    nM   \n",
       "3        CHEMBL97383  1813.00    nM   \n",
       "4       CHEMBL336217   215.00    nM   \n",
       "5       CHEMBL318251    13.90    nM   \n",
       "6       CHEMBL100195    32.90    nM   \n",
       "7       CHEMBL134566   121.00    nM   \n",
       "8       CHEMBL435022    50.00    nM   \n",
       "9       CHEMBL341376     0.81    nM   \n",
       "\n",
       "                                              smiles       pKi  \n",
       "0         CCCC(=O)Nc1nc2ccc(Cl)cc2c2nc(-c3ccco3)nn12  7.835647  \n",
       "1  CC(C)CCn1cc2c(nc(NC(=O)Cc3ccccc3)n3nc(-c4ccco4...  7.091515  \n",
       "2   O=C(Cc1ccccc1)Nc1nc2ccc(Cl)cc2c2nc(-c3ccco3)nn12  9.187087  \n",
       "3           CCCn1c(=O)n2nc(-c3ccco3)nc2c2cc(Cl)ccc21  5.741602  \n",
       "4  CC(C)CCn1cc2c(nc(NC(=O)Cc3cccc4ccccc34)n3nc(-c...  6.667562  \n",
       "5           CC(=O)Nc1nc2ccc(Cl)cc2c2nc(-c3ccco3)nn12  7.856985  \n",
       "6  CC(C)(C)OC(=O)NCCCC(=O)Nc1nc2ccc(Cl)cc2c2nc(-c...  7.482804  \n",
       "7  O=C(Cc1ccccc1)Nc1nc2nn(CCCc3ccccc3)cc2c2nc(-c3...  6.917215  \n",
       "8  CC(C)CCn1cc2c(nc(NC(=O)COc3ccccc3)n3nc(-c4ccco...  7.301030  \n",
       "9   Cn1cc2c(nc(NC(=O)Cc3ccccc3)n3nc(-c4ccco4)nc23)n1  9.091515  "
      ]
     },
     "execution_count": 162,
     "metadata": {},
     "output_type": "execute_result"
    }
   ],
   "source": [
    "output_df.head(10) # check if it went right"
   ]
  },
  {
   "cell_type": "code",
   "execution_count": 163,
   "id": "8d8632ff",
   "metadata": {},
   "outputs": [
    {
     "data": {
      "text/plain": [
       "array([[<Axes: title={'center': 'pKi'}>]], dtype=object)"
      ]
     },
     "execution_count": 163,
     "metadata": {},
     "output_type": "execute_result"
    },
    {
     "data": {
      "image/png": "[encoded data removed]",
      "text/plain": [
       "<Figure size 640x480 with 1 Axes>"
      ]
     },
     "metadata": {},
     "output_type": "display_data"
    }
   ],
   "source": [
    "output_df.hist(column=\"pKi\") # plot the compound data to visualize the distribution of pKi values that we compiled\n",
    "# a pKi of around 6 might be a binder, but not that potent, from 8 upwards we could consider the compounds to be strong binders"
   ]
  },
  {
   "cell_type": "code",
   "execution_count": 164,
   "id": "1b46951d",
   "metadata": {},
   "outputs": [],
   "source": [
    "PandasTools.AddMoleculeColumnToFrame(output_df, smilesCol=\"smiles\") #ROMol column is added to the df, but will be dropped soon before saving"
   ]
  },
  {
   "cell_type": "code",
   "execution_count": 165,
   "id": "46c5705d",
   "metadata": {},
   "outputs": [
    {
     "data": {
      "text/html": [
       "<div>\n",
       "<style scoped>\n",
       "    .dataframe tbody tr th:only-of-type {\n",
       "        vertical-align: middle;\n",
       "    }\n",
       "\n",
       "    .dataframe tbody tr th {\n",
       "        vertical-align: top;\n",
       "    }\n",
       "\n",
       "    .dataframe thead th {\n",
       "        text-align: right;\n",
       "    }\n",
       "</style>\n",
       "<table border=\"1\" class=\"dataframe\">\n",
       "  <thead>\n",
       "    <tr style=\"text-align: right;\">\n",
       "      <th></th>\n",
       "      <th>molecule_chembl_id</th>\n",
       "      <th>Ki</th>\n",
       "      <th>units</th>\n",
       "      <th>smiles</th>\n",
       "      <th>pKi</th>\n",
       "      <th>ROMol</th>\n",
       "    </tr>\n",
       "  </thead>\n",
       "  <tbody>\n",
       "    <tr>\n",
       "      <th>0</th>\n",
       "      <td>CHEMBL118923</td>\n",
       "      <td>0.0100</td>\n",
       "      <td>nM</td>\n",
       "      <td>Cl.Cn1cc2c(nc(NC(=O)Nc3ccncc3)n3nc(-c4ccco4)nc...</td>\n",
       "      <td>11.000000</td>\n",
       "      <td>&lt;rdkit.Chem.rdchem.Mol object at 0x7f17df969190&gt;</td>\n",
       "    </tr>\n",
       "    <tr>\n",
       "      <th>1</th>\n",
       "      <td>CHEMBL3754229</td>\n",
       "      <td>0.0270</td>\n",
       "      <td>nM</td>\n",
       "      <td>COc1ccc(C(=O)Nc2nc(-c3cccs3)nc3cn(-c4ccccc4)nc...</td>\n",
       "      <td>10.568636</td>\n",
       "      <td>&lt;rdkit.Chem.rdchem.Mol object at 0x7f17df92e900&gt;</td>\n",
       "    </tr>\n",
       "    <tr>\n",
       "      <th>2</th>\n",
       "      <td>CHEMBL89852</td>\n",
       "      <td>0.0314</td>\n",
       "      <td>nM</td>\n",
       "      <td>CCO/C(O)=C1\\C(C)=NC(c2ccccc2)=C(C(=O)OCc2ccccc...</td>\n",
       "      <td>10.503070</td>\n",
       "      <td>&lt;rdkit.Chem.rdchem.Mol object at 0x7f17df959120&gt;</td>\n",
       "    </tr>\n",
       "    <tr>\n",
       "      <th>3</th>\n",
       "      <td>CHEMBL332091</td>\n",
       "      <td>0.0400</td>\n",
       "      <td>nM</td>\n",
       "      <td>Cn1cc2c(nc(NC(=O)Nc3ccncc3)n3nc(-c4ccco4)nc23)n1</td>\n",
       "      <td>10.397940</td>\n",
       "      <td>&lt;rdkit.Chem.rdchem.Mol object at 0x7f17df96a510&gt;</td>\n",
       "    </tr>\n",
       "    <tr>\n",
       "      <th>4</th>\n",
       "      <td>CHEMBL1091268</td>\n",
       "      <td>0.1080</td>\n",
       "      <td>nM</td>\n",
       "      <td>Cn1cc2c(nc(NC(=O)Cc3ccccc3)n3nc(-c4ccccc4)nc23)n1</td>\n",
       "      <td>9.966576</td>\n",
       "      <td>&lt;rdkit.Chem.rdchem.Mol object at 0x7f17df912350&gt;</td>\n",
       "    </tr>\n",
       "  </tbody>\n",
       "</table>\n",
       "</div>"
      ],
      "text/plain": [
       "  molecule_chembl_id      Ki units  \\\n",
       "0       CHEMBL118923  0.0100    nM   \n",
       "1      CHEMBL3754229  0.0270    nM   \n",
       "2        CHEMBL89852  0.0314    nM   \n",
       "3       CHEMBL332091  0.0400    nM   \n",
       "4      CHEMBL1091268  0.1080    nM   \n",
       "\n",
       "                                              smiles        pKi  \\\n",
       "0  Cl.Cn1cc2c(nc(NC(=O)Nc3ccncc3)n3nc(-c4ccco4)nc...  11.000000   \n",
       "1  COc1ccc(C(=O)Nc2nc(-c3cccs3)nc3cn(-c4ccccc4)nc...  10.568636   \n",
       "2  CCO/C(O)=C1\\C(C)=NC(c2ccccc2)=C(C(=O)OCc2ccccc...  10.503070   \n",
       "3   Cn1cc2c(nc(NC(=O)Nc3ccncc3)n3nc(-c4ccco4)nc23)n1  10.397940   \n",
       "4  Cn1cc2c(nc(NC(=O)Cc3ccccc3)n3nc(-c4ccccc4)nc23)n1   9.966576   \n",
       "\n",
       "                                              ROMol  \n",
       "0  <rdkit.Chem.rdchem.Mol object at 0x7f17df969190>  \n",
       "1  <rdkit.Chem.rdchem.Mol object at 0x7f17df92e900>  \n",
       "2  <rdkit.Chem.rdchem.Mol object at 0x7f17df959120>  \n",
       "3  <rdkit.Chem.rdchem.Mol object at 0x7f17df96a510>  \n",
       "4  <rdkit.Chem.rdchem.Mol object at 0x7f17df912350>  "
      ]
     },
     "execution_count": 165,
     "metadata": {},
     "output_type": "execute_result"
    }
   ],
   "source": [
    "output_df.sort_values(by=\"pKi\", ascending=False, inplace=True) # the list is sorted with highest pKi first\n",
    "output_df.reset_index(drop=True, inplace=True) # reset index"
   ]
  },
  {
   "cell_type": "code",
   "execution_count": 166,
   "id": "a7f1207d",
   "metadata": {},
   "outputs": [
    {
     "data": {
      "text/html": [
       "<div>\n",
       "<style scoped>\n",
       "    .dataframe tbody tr th:only-of-type {\n",
       "        vertical-align: middle;\n",
       "    }\n",
       "\n",
       "    .dataframe tbody tr th {\n",
       "        vertical-align: top;\n",
       "    }\n",
       "\n",
       "    .dataframe thead th {\n",
       "        text-align: right;\n",
       "    }\n",
       "</style>\n",
       "<table border=\"1\" class=\"dataframe\">\n",
       "  <thead>\n",
       "    <tr style=\"text-align: right;\">\n",
       "      <th></th>\n",
       "      <th>molecule_chembl_id</th>\n",
       "      <th>Ki</th>\n",
       "      <th>units</th>\n",
       "      <th>smiles</th>\n",
       "      <th>pKi</th>\n",
       "      <th>ROMol</th>\n",
       "    </tr>\n",
       "  </thead>\n",
       "  <tbody>\n",
       "    <tr>\n",
       "      <th>0</th>\n",
       "      <td>CHEMBL118923</td>\n",
       "      <td>0.0100</td>\n",
       "      <td>nM</td>\n",
       "      <td>Cl.Cn1cc2c(nc(NC(=O)Nc3ccncc3)n3nc(-c4ccco4)nc...</td>\n",
       "      <td>11.000000</td>\n",
       "      <td>&lt;rdkit.Chem.rdchem.Mol object at 0x7f17df969190&gt;</td>\n",
       "    </tr>\n",
       "    <tr>\n",
       "      <th>1</th>\n",
       "      <td>CHEMBL3754229</td>\n",
       "      <td>0.0270</td>\n",
       "      <td>nM</td>\n",
       "      <td>COc1ccc(C(=O)Nc2nc(-c3cccs3)nc3cn(-c4ccccc4)nc...</td>\n",
       "      <td>10.568636</td>\n",
       "      <td>&lt;rdkit.Chem.rdchem.Mol object at 0x7f17df92e900&gt;</td>\n",
       "    </tr>\n",
       "    <tr>\n",
       "      <th>2</th>\n",
       "      <td>CHEMBL89852</td>\n",
       "      <td>0.0314</td>\n",
       "      <td>nM</td>\n",
       "      <td>CCO/C(O)=C1\\C(C)=NC(c2ccccc2)=C(C(=O)OCc2ccccc...</td>\n",
       "      <td>10.503070</td>\n",
       "      <td>&lt;rdkit.Chem.rdchem.Mol object at 0x7f17df959120&gt;</td>\n",
       "    </tr>\n",
       "    <tr>\n",
       "      <th>3</th>\n",
       "      <td>CHEMBL332091</td>\n",
       "      <td>0.0400</td>\n",
       "      <td>nM</td>\n",
       "      <td>Cn1cc2c(nc(NC(=O)Nc3ccncc3)n3nc(-c4ccco4)nc23)n1</td>\n",
       "      <td>10.397940</td>\n",
       "      <td>&lt;rdkit.Chem.rdchem.Mol object at 0x7f17df96a510&gt;</td>\n",
       "    </tr>\n",
       "    <tr>\n",
       "      <th>4</th>\n",
       "      <td>CHEMBL1091268</td>\n",
       "      <td>0.1080</td>\n",
       "      <td>nM</td>\n",
       "      <td>Cn1cc2c(nc(NC(=O)Cc3ccccc3)n3nc(-c4ccccc4)nc23)n1</td>\n",
       "      <td>9.966576</td>\n",
       "      <td>&lt;rdkit.Chem.rdchem.Mol object at 0x7f17df912350&gt;</td>\n",
       "    </tr>\n",
       "  </tbody>\n",
       "</table>\n",
       "</div>"
      ],
      "text/plain": [
       "  molecule_chembl_id      Ki units  \\\n",
       "0       CHEMBL118923  0.0100    nM   \n",
       "1      CHEMBL3754229  0.0270    nM   \n",
       "2        CHEMBL89852  0.0314    nM   \n",
       "3       CHEMBL332091  0.0400    nM   \n",
       "4      CHEMBL1091268  0.1080    nM   \n",
       "\n",
       "                                              smiles        pKi  \\\n",
       "0  Cl.Cn1cc2c(nc(NC(=O)Nc3ccncc3)n3nc(-c4ccco4)nc...  11.000000   \n",
       "1  COc1ccc(C(=O)Nc2nc(-c3cccs3)nc3cn(-c4ccccc4)nc...  10.568636   \n",
       "2  CCO/C(O)=C1\\C(C)=NC(c2ccccc2)=C(C(=O)OCc2ccccc...  10.503070   \n",
       "3   Cn1cc2c(nc(NC(=O)Nc3ccncc3)n3nc(-c4ccco4)nc23)n1  10.397940   \n",
       "4  Cn1cc2c(nc(NC(=O)Cc3ccccc3)n3nc(-c4ccccc4)nc23)n1   9.966576   \n",
       "\n",
       "                                              ROMol  \n",
       "0  <rdkit.Chem.rdchem.Mol object at 0x7f17df969190>  \n",
       "1  <rdkit.Chem.rdchem.Mol object at 0x7f17df92e900>  \n",
       "2  <rdkit.Chem.rdchem.Mol object at 0x7f17df959120>  \n",
       "3  <rdkit.Chem.rdchem.Mol object at 0x7f17df96a510>  \n",
       "4  <rdkit.Chem.rdchem.Mol object at 0x7f17df912350>  "
      ]
     },
     "execution_count": 166,
     "metadata": {},
     "output_type": "execute_result"
    }
   ],
   "source": [
    "output_df.drop(\"smiles\", axis=1).head(10)"
   ]
  },
  {
   "cell_type": "code",
   "execution_count": 167,
   "id": "aba66717",
   "metadata": {},
   "outputs": [
    {
     "name": "stdout",
     "output_type": "stream",
     "text": [
      "DataFrame shape: (3945, 5)\n"
     ]
    }
   ],
   "source": [
    "output_df = output_df.drop(\"ROMol\", axis=1)\n",
    "print(f\"DataFrame shape: {output_df.shape}\")"
   ]
  },
  {
   "cell_type": "code",
   "execution_count": 119,
   "id": "56ad3dab",
   "metadata": {},
   "outputs": [
    {
     "data": {
      "text/plain": [
       "0       Cl.Cn1cc2c(nc(NC(=O)Nc3ccncc3)n3nc(-c4ccco4)nc...\n",
       "1       COc1ccc(C(=O)Nc2nc(-c3cccs3)nc3cn(-c4ccccc4)nc...\n",
       "2       CCO/C(O)=C1\\C(C)=NC(c2ccccc2)=C(C(=O)OCc2ccccc...\n",
       "3        Cn1cc2c(nc(NC(=O)Nc3ccncc3)n3nc(-c4ccco4)nc23)n1\n",
       "4       Cn1cc2c(nc(NC(=O)Cc3ccccc3)n3nc(-c4ccccc4)nc23)n1\n",
       "                              ...                        \n",
       "3940                           Oc1nc(-c2ccccn2)cc2ccccc12\n",
       "3941             CC(=O)N(C(C)=O)c1nc(-c2ccccn2)cc2ccccc12\n",
       "3942                 CC(C)C(=O)Nc1nc(-c2ccccn2)cc2ccccc12\n",
       "3943              CC(C)(C)c1nc(NC(=O)Nc2ccccc2)c2ccccc2n1\n",
       "3944              O=C(Nc1nc(-c2ccccn2)nc2ccccc12)C(F)(F)F\n",
       "Name: smiles, Length: 3945, dtype: object"
      ]
     },
     "metadata": {},
     "output_type": "display_data"
    }
   ],
   "source": [
    "# Now we save the smiles column as a txt file\n",
    "dfsmiles = output_df['smiles']\n",
    "display(dfsmiles)\n",
    "export_directory = input('home/jovyan/project')\n",
    "dfsmiles.to_csv('a3_ligands_ki_smiles.txt')\n",
    "\n",
    "# the following is for when i want it as a .csv file\n",
    "#pd.read_csv('a3_ligands_ki_smiles.txt')\n",
    "#dfsmiles.to_csv('/home/jovyan/project' + \"/a3_ligands_ki_smiles.csv\")\n",
    "\n",
    "# i also saved the list in a version with the following columns: molecule_chembl_id,Ki,units,smiles,pKi\n",
    "#output_df.to_csv('a3_ligands_ki.txt')"
   ]
  }
 ],
 "metadata": {
  "kernelspec": {
   "display_name": "Python 3 (ipykernel)",
   "language": "python",
   "name": "python3"
  },
  "language_info": {
   "codemirror_mode": {
    "name": "ipython",
    "version": 3
   },
   "file_extension": ".py",
   "mimetype": "text/x-python",
   "name": "python",
   "nbconvert_exporter": "python",
   "pygments_lexer": "ipython3",
   "version": "3.9.13"
  }
 },
 "nbformat": 4,
 "nbformat_minor": 5
}
